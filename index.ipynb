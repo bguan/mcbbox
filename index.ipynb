{
 "cells": [
  {
   "cell_type": "code",
   "execution_count": null,
   "metadata": {},
   "outputs": [],
   "source": [
    "#hide\n",
    "from mcbbox import *"
   ]
  },
  {
   "cell_type": "markdown",
   "metadata": {},
   "source": [
    "# Exploring Multi-Category Object Detection with Bounding Boxes\n",
    "\n",
    "For self education purpose only."
   ]
  },
  {
   "cell_type": "markdown",
   "metadata": {},
   "source": [
    "## How to use"
   ]
  },
  {
   "cell_type": "markdown",
   "metadata": {},
   "source": [
    "Launch Jupter lab, open the Pytorch Lightning or FastAI based notebook and run!"
   ]
  },
  {
   "cell_type": "markdown",
   "metadata": {},
   "source": [
    "## Alternative (Run as Python Standalone Script)\n",
    "\n",
    "### Prerequisite\n",
    "* Python 3.8 and pip installed\n",
    "* Ensure IceVision is installed i.e. pip install icevision\n",
    "* Which should mean nbdev, jupyter, pytorch-lightning, fastai, pytorch, torchvision, fastcore, numpy ... are all installed\n",
    "\n",
    "### Optional Generate script\n",
    "* On command line, run ```nbdev_build_libs```\n",
    "\n",
    "### Run e.g. FastAI version of Subcoco script\n",
    "(Look at mcbbox/subcoco_ivf.py to see if that's what you want...)\n",
    "* On command line, run ```python mcbbox\\subcoco_ivf.py```"
   ]
  },
  {
   "cell_type": "code",
   "execution_count": null,
   "metadata": {},
   "outputs": [],
   "source": []
  }
 ],
 "metadata": {
  "kernelspec": {
   "display_name": "Python 3",
   "language": "python",
   "name": "python3"
  }
 },
 "nbformat": 4,
 "nbformat_minor": 4
}
